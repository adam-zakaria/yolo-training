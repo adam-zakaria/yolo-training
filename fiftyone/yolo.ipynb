{
 "cells": [
  {
   "cell_type": "code",
   "execution_count": 12,
   "metadata": {},
   "outputs": [
    {
     "name": "stdout",
     "output_type": "stream",
     "text": [
      " 100% |███████████| 126632/126632 [1.6m elapsed, 0s remaining, 692.0 samples/s]      \n"
     ]
    },
    {
     "data": {
      "text/plain": [
       "Dataset:     nightowls6\n",
       "Media type:  image\n",
       "Num samples: 100\n",
       "Sample fields:\n",
       "    id:           fiftyone.core.fields.ObjectIdField\n",
       "    filepath:     fiftyone.core.fields.StringField\n",
       "    tags:         fiftyone.core.fields.ListField(fiftyone.core.fields.StringField)\n",
       "    metadata:     fiftyone.core.fields.EmbeddedDocumentField(fiftyone.core.metadata.ImageMetadata)\n",
       "    ground_truth: fiftyone.core.fields.EmbeddedDocumentField(fiftyone.core.labels.Detections)\n",
       "View stages:\n",
       "    1. Limit(limit=100)"
      ]
     },
     "execution_count": 12,
     "metadata": {},
     "output_type": "execute_result"
    }
   ],
   "source": [
    "import fiftyone as fo\n",
    "\n",
    "name = \"nightowls6\"\n",
    "dataset_dir = \"/usr/src/datasets/n130064t_fiftyone\"\n",
    "\n",
    "# The splits to load\n",
    "#splits = [\"train\", \"val\"]\n",
    "splits = [\"train\"]\n",
    "\n",
    "# Load the dataset, using tags to mark the samples in each split\n",
    "dataset = fo.Dataset(name)\n",
    "for split in splits:\n",
    "    dataset.add_dir(\n",
    "        dataset_dir=dataset_dir,\n",
    "        dataset_type=fo.types.YOLOv5Dataset,\n",
    "        split=split,\n",
    "        tags=split,\n",
    ")\n",
    "\n",
    "#Use this if the dataset has already been created\n",
    "#dataset = fo.load_dataset(name)\n",
    "dataset.limit(100)\n",
    "\n",
    "# View summary info about the dataset\n",
    "#print(dataset)\n",
    "#\n",
    "## Print the first few samples in the dataset\n",
    "#print(dataset.head())\n",
    "#session = fo.launch_app(dataset)"
   ]
  },
  {
   "cell_type": "code",
   "execution_count": null,
   "metadata": {},
   "outputs": [],
   "source": [
    "#dataset = fo.load_dataset('no1')\n",
    "session = fo.launch_app(dataset)"
   ]
  },
  {
   "cell_type": "code",
   "execution_count": 7,
   "metadata": {},
   "outputs": [
    {
     "data": {
      "text/plain": [
       "Dataset:     full_nightowls\n",
       "Media type:  image\n",
       "Num samples: 0\n",
       "Sample fields:\n",
       "    id:           fiftyone.core.fields.ObjectIdField\n",
       "    filepath:     fiftyone.core.fields.StringField\n",
       "    tags:         fiftyone.core.fields.ListField(fiftyone.core.fields.StringField)\n",
       "    metadata:     fiftyone.core.fields.EmbeddedDocumentField(fiftyone.core.metadata.ImageMetadata)\n",
       "    ground_truth: fiftyone.core.fields.EmbeddedDocumentField(fiftyone.core.labels.Detections)\n",
       "    uniqueness:   fiftyone.core.fields.FloatField\n",
       "View stages:\n",
       "    1. Match(filter={'$expr': {'$eq': [...]}})"
      ]
     },
     "execution_count": 7,
     "metadata": {},
     "output_type": "execute_result"
    }
   ],
   "source": [
    "from fiftyone import ViewField as F\n",
    "for s in dataset.limit(1000):\n",
    "    print(s)\n",
    "#dataset.match(F(\"filepath\") == \"/usr/src/datasets/n51848v/remapped/images/58c58359bc2601370015fc5e.png\")"
   ]
  },
  {
   "cell_type": "code",
   "execution_count": null,
   "metadata": {},
   "outputs": [],
   "source": []
  },
  {
   "cell_type": "code",
   "execution_count": 11,
   "metadata": {},
   "outputs": [
    {
     "name": "stderr",
     "output_type": "stream",
     "text": [
      "/opt/conda/lib/python3.8/site-packages/tqdm/auto.py:22: TqdmWarning: IProgress not found. Please update jupyter and ipywidgets. See https://ipywidgets.readthedocs.io/en/stable/user_install.html\n",
      "  from .autonotebook import tqdm as notebook_tqdm\n"
     ]
    },
    {
     "name": "stdout",
     "output_type": "stream",
     "text": [
      "Sample field 'uniqueness' does not exist\n",
      "Computing embeddings...\n",
      "   4% |\\----------|   5536/126632 [11.9s elapsed, 4.3m remaining, 699.3 samples/s] "
     ]
    },
    {
     "name": "stderr",
     "output_type": "stream",
     "text": [
      "/opt/conda/lib/python3.8/site-packages/fiftyone/utils/torch.py:689: RuntimeWarning: overflow encountered in exp\n",
      "  odds = np.exp(logits)\n",
      "/opt/conda/lib/python3.8/site-packages/fiftyone/utils/torch.py:690: RuntimeWarning: invalid value encountered in true_divide\n",
      "  odds /= np.sum(odds, axis=1, keepdims=True)\n"
     ]
    },
    {
     "name": "stdout",
     "output_type": "stream",
     "text": [
      " 100% |███████████| 126632/126632 [3.1m elapsed, 0s remaining, 684.1 samples/s]      \n",
      "Computing uniqueness...\n",
      "Computing neighbors for 126632 embeddings; this may take awhile...\n",
      "Uniqueness computation complete\n"
     ]
    }
   ],
   "source": [
    "import fiftyone.brain as fob\n",
    "\n",
    "fob.compute_uniqueness(dataset)"
   ]
  },
  {
   "cell_type": "code",
   "execution_count": null,
   "metadata": {},
   "outputs": [],
   "source": [
    "#print(dataset)\n",
    "#print(dataset.first())\n",
    "# Sort by uniqueness (most unique first)\n",
    "dataset.limit(1000)\n",
    "rank_view = dataset.sort_by(\"uniqueness\", reverse=True)\n",
    "# Visualize in the App\n",
    "session = fo.launch_app(dataset)\n",
    "session.view = rank_view"
   ]
  },
  {
   "cell_type": "code",
   "execution_count": 10,
   "metadata": {},
   "outputs": [
    {
     "ename": "ValueError",
     "evalue": "`Session.view` must be a <class 'fiftyone.core.view.DatasetView'> or None; found <class 'fiftyone.core.sample.SampleView'>",
     "output_type": "error",
     "traceback": [
      "\u001b[0;31m---------------------------------------------------------------------------\u001b[0m",
      "\u001b[0;31mValueError\u001b[0m                                Traceback (most recent call last)",
      "Cell \u001b[0;32mIn [10], line 3\u001b[0m\n\u001b[1;32m      1\u001b[0m view \u001b[39m=\u001b[39m dataset\u001b[39m.\u001b[39mview()\n\u001b[1;32m      2\u001b[0m sample \u001b[39m=\u001b[39m view[\u001b[39m'\u001b[39m\u001b[39m/usr/src/datasets/n130064t/base/images/58c5822abc26013700132ba1.png\u001b[39m\u001b[39m'\u001b[39m]\n\u001b[0;32m----> 3\u001b[0m session\u001b[39m.\u001b[39;49mview \u001b[39m=\u001b[39m sample\n",
      "File \u001b[0;32m/opt/conda/lib/python3.8/site-packages/fiftyone/core/session/session.py:210\u001b[0m, in \u001b[0;36mupdate_state.<locals>.decorator.<locals>.wrapper\u001b[0;34m(session, *args, **kwargs)\u001b[0m\n\u001b[1;32m    208\u001b[0m \u001b[39mif\u001b[39;00m auto_show \u001b[39mand\u001b[39;00m session\u001b[39m.\u001b[39mauto \u001b[39mand\u001b[39;00m focx\u001b[39m.\u001b[39mis_notebook_context():\n\u001b[1;32m    209\u001b[0m     session\u001b[39m.\u001b[39mfreeze()\n\u001b[0;32m--> 210\u001b[0m result \u001b[39m=\u001b[39m func(session, \u001b[39m*\u001b[39;49margs, \u001b[39m*\u001b[39;49m\u001b[39m*\u001b[39;49mkwargs)\n\u001b[1;32m    211\u001b[0m session\u001b[39m.\u001b[39m_client\u001b[39m.\u001b[39msend_event(StateUpdate(state\u001b[39m=\u001b[39msession\u001b[39m.\u001b[39m_state))\n\u001b[1;32m    212\u001b[0m \u001b[39mif\u001b[39;00m auto_show \u001b[39mand\u001b[39;00m session\u001b[39m.\u001b[39mauto \u001b[39mand\u001b[39;00m focx\u001b[39m.\u001b[39mis_notebook_context():\n",
      "File \u001b[0;32m/opt/conda/lib/python3.8/site-packages/fiftyone/core/session/session.py:545\u001b[0m, in \u001b[0;36mSession.view\u001b[0;34m(self, view)\u001b[0m\n\u001b[1;32m    541\u001b[0m \u001b[39m@view\u001b[39m\u001b[39m.\u001b[39msetter  \u001b[39m# type: ignore\u001b[39;00m\n\u001b[1;32m    542\u001b[0m \u001b[39m@update_state\u001b[39m(auto_show\u001b[39m=\u001b[39m\u001b[39mTrue\u001b[39;00m)\n\u001b[1;32m    543\u001b[0m \u001b[39mdef\u001b[39;00m \u001b[39mview\u001b[39m(\u001b[39mself\u001b[39m, view: t\u001b[39m.\u001b[39mUnion[fov\u001b[39m.\u001b[39mDatasetView, \u001b[39mNone\u001b[39;00m]) \u001b[39m-\u001b[39m\u001b[39m>\u001b[39m \u001b[39mNone\u001b[39;00m:\n\u001b[1;32m    544\u001b[0m     \u001b[39mif\u001b[39;00m view \u001b[39mis\u001b[39;00m \u001b[39mnot\u001b[39;00m \u001b[39mNone\u001b[39;00m \u001b[39mand\u001b[39;00m \u001b[39mnot\u001b[39;00m \u001b[39misinstance\u001b[39m(view, fov\u001b[39m.\u001b[39mDatasetView):\n\u001b[0;32m--> 545\u001b[0m         \u001b[39mraise\u001b[39;00m \u001b[39mValueError\u001b[39;00m(\n\u001b[1;32m    546\u001b[0m             \u001b[39m\"\u001b[39m\u001b[39m`Session.view` must be a \u001b[39m\u001b[39m%s\u001b[39;00m\u001b[39m or None; found \u001b[39m\u001b[39m%s\u001b[39;00m\u001b[39m\"\u001b[39m\n\u001b[1;32m    547\u001b[0m             \u001b[39m%\u001b[39m (fov\u001b[39m.\u001b[39mDatasetView, \u001b[39mtype\u001b[39m(view))\n\u001b[1;32m    548\u001b[0m         )\n\u001b[1;32m    550\u001b[0m     \u001b[39mself\u001b[39m\u001b[39m.\u001b[39m_state\u001b[39m.\u001b[39mview \u001b[39m=\u001b[39m view\n\u001b[1;32m    552\u001b[0m     \u001b[39mif\u001b[39;00m view \u001b[39mis\u001b[39;00m \u001b[39mnot\u001b[39;00m \u001b[39mNone\u001b[39;00m:\n",
      "\u001b[0;31mValueError\u001b[0m: `Session.view` must be a <class 'fiftyone.core.view.DatasetView'> or None; found <class 'fiftyone.core.sample.SampleView'>"
     ]
    }
   ],
   "source": [
    "view = dataset.view()\n",
    "sample = view['/usr/src/datasets/n130064t/base/images/58c5822abc26013700132ba1.png']\n",
    "session.view = sample\n",
    "#sample"
   ]
  }
 ],
 "metadata": {
  "kernelspec": {
   "display_name": "Python 3.8.13 ('base')",
   "language": "python",
   "name": "python3"
  },
  "language_info": {
   "codemirror_mode": {
    "name": "ipython",
    "version": 3
   },
   "file_extension": ".py",
   "mimetype": "text/x-python",
   "name": "python",
   "nbconvert_exporter": "python",
   "pygments_lexer": "ipython3",
   "version": "3.8.13"
  },
  "orig_nbformat": 4,
  "vscode": {
   "interpreter": {
    "hash": "d4d1e4263499bec80672ea0156c357c1ee493ec2b1c70f0acce89fc37c4a6abe"
   }
  }
 },
 "nbformat": 4,
 "nbformat_minor": 2
}
