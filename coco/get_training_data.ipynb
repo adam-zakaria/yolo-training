{
 "cells": [
  {
   "cell_type": "code",
   "execution_count": 8,
   "metadata": {},
   "outputs": [],
   "source": [
    "%matplotlib inline\n",
    "from pycocotools.coco import COCO\n",
    "import numpy as np\n",
    "import skimage.io as io\n",
    "import matplotlib.pyplot as plt\n",
    "import pylab\n",
    "import json\n",
    "pylab.rcParams['figure.figsize'] = (8.0, 10.0)\n"
   ]
  },
  {
   "cell_type": "code",
   "execution_count": 9,
   "metadata": {},
   "outputs": [],
   "source": [
    "dataDir='/Users/azakaria/Downloads'\n",
    "dataType='val2017'\n",
    "annFile=f'{dataDir}/annotations/instances_{dataType}.json'"
   ]
  },
  {
   "cell_type": "code",
   "execution_count": 10,
   "metadata": {},
   "outputs": [
    {
     "name": "stdout",
     "output_type": "stream",
     "text": [
      "loading annotations into memory...\n",
      "Done (t=0.80s)\n",
      "creating index...\n",
      "index created!\n"
     ]
    }
   ],
   "source": [
    "# initialize COCO api for instance annotations\n",
    "coco=COCO(annFile)"
   ]
  },
  {
   "cell_type": "code",
   "execution_count": 11,
   "metadata": {},
   "outputs": [
    {
     "name": "stdout",
     "output_type": "stream",
     "text": [
      "{1: 0, 2: 1, 3: 2, 4: 3, 5: 4, 6: 5, 7: 6, 8: 7, 9: 8, 10: 9, 11: 10, 13: 11, 14: 12, 15: 13, 16: 14, 17: 15, 18: 16, 19: 17, 20: 18, 21: 19, 22: 20, 23: 21, 24: 22, 25: 23, 27: 24, 28: 25, 31: 26, 32: 27, 33: 28, 34: 29, 35: 30, 36: 31, 37: 32, 38: 33, 39: 34, 40: 35, 41: 36, 42: 37, 43: 38, 44: 39, 46: 40, 47: 41, 48: 42, 49: 43, 50: 44, 51: 45, 52: 46, 53: 47, 54: 48, 55: 49, 56: 50, 57: 51, 58: 52, 59: 53, 60: 54, 61: 55, 62: 56, 63: 57, 64: 58, 65: 59, 67: 60, 70: 61, 72: 62, 73: 63, 74: 64, 75: 65, 76: 66, 77: 67, 78: 68, 79: 69, 80: 70, 81: 71, 82: 72, 84: 73, 85: 74, 86: 75, 87: 76, 88: 77, 89: 78, 90: 79}\n"
     ]
    }
   ],
   "source": [
    "# display COCO categories and supercategories\n",
    "cats = coco.loadCats(coco.getCatIds())\n",
    "cat_map = {}\n",
    "for i,cat in enumerate(cats):\n",
    "    cat_map[cat['id']] = i\n",
    "#print(len(cats))\n",
    "#print(coco.anns.keys()) #keys are the image ids I believe\n",
    "#print(coco.anns[1768].keys())\n",
    "nms=[cat['name'] for cat in cats]\n",
    "#print(nms)\n",
    "#print([cat['id'] for cat in cats])\n",
    "print(cat_map)"
   ]
  },
  {
   "cell_type": "code",
   "execution_count": 17,
   "metadata": {},
   "outputs": [],
   "source": [
    "catIds = coco.getCatIds()\n",
    "def get_imgs_from_each_category(catIds, numImgs):\n",
    "    imgIds = []\n",
    "    for catId in catIds:\n",
    "        imgIds_current_batch = coco.getImgIds(catIds=[catId])[:]\n",
    "        if(len(imgIds_current_batch) < numImgs):\n",
    "            print(f'category {catId}: {len(imgIds_current_batch)} total images. WARNING! Less than {numImgs} images threshold')\n",
    "            #print(f'WARNING! Less than {numImgs} images in category {catId}! {len(imgIds_current_batch)} total images')\n",
    "        else:\n",
    "            print(f'category {catId}: {len(imgIds_current_batch)} total images')\n",
    "        imgIds = imgIds + imgIds_current_batch\n",
    "    return imgIds"
   ]
  },
  {
   "cell_type": "code",
   "execution_count": 13,
   "metadata": {},
   "outputs": [],
   "source": [
    "from pathlib import Path\n",
    "def coco_to_yolo_bb(x1, y1, w, h, image_w, image_h):\n",
    "    #\"bbox\": [x,y,width,height], (COCO)\n",
    "    #x_center y_center width height (YOLO)\n",
    "    return [((2*x1 + w)/(2*image_w)) , ((2*y1 + h)/(2*image_h)), w/image_w, h/image_h]\n",
    "ann_c = set()\n",
    "def write_label_file(imgId):\n",
    "    # using with statement\n",
    "    img = coco.loadImgs(imgId)[0]\n",
    "    label_dir = Path('/Users/azakaria/Code/openmpf-yolo-training/coco/dataset/labels')\n",
    "    filename = img['file_name'].split('.')[0] + '.txt'\n",
    "    #print(img['file_name'])\n",
    "    with open(label_dir/filename, 'w') as file:\n",
    "        for ann in coco.loadAnns(coco.getAnnIds(imgIds = imgId, catIds=catIds)):\n",
    "            ann_c.add(cat_map[ann[\"category_id\"]])\n",
    "            if cat_map[ann[\"category_id\"]] > 80:\n",
    "                print(f'cat_id > 80 {ann[\"category_id\"]}')\n",
    "            x_center, y_center, width, height = coco_to_yolo_bb(*ann['bbox'], img['width'], img['height'])\n",
    "            file.write(f'{cat_map[ann[\"category_id\"]]}\\t{x_center}\\t{y_center}\\t{width}\\t{height}\\n')\n",
    "    return"
   ]
  },
  {
   "cell_type": "code",
   "execution_count": 18,
   "metadata": {},
   "outputs": [
    {
     "name": "stdout",
     "output_type": "stream",
     "text": [
      "category 1: 2693 total images\n",
      "category 2: 149 total images\n",
      "category 3: 535 total images\n",
      "category 4: 159 total images\n",
      "category 5: 97 total images. WARNING! Less than 120 images threshold\n",
      "category 6: 189 total images\n",
      "category 7: 157 total images\n",
      "category 8: 250 total images\n",
      "category 9: 121 total images\n",
      "category 10: 191 total images\n",
      "category 11: 86 total images. WARNING! Less than 120 images threshold\n",
      "category 13: 69 total images. WARNING! Less than 120 images threshold\n",
      "category 14: 37 total images. WARNING! Less than 120 images threshold\n",
      "category 15: 235 total images\n",
      "category 16: 125 total images\n",
      "category 17: 184 total images\n",
      "category 18: 177 total images\n",
      "category 19: 128 total images\n",
      "category 20: 65 total images. WARNING! Less than 120 images threshold\n",
      "category 21: 87 total images. WARNING! Less than 120 images threshold\n",
      "category 22: 89 total images. WARNING! Less than 120 images threshold\n",
      "category 23: 49 total images. WARNING! Less than 120 images threshold\n",
      "category 24: 85 total images. WARNING! Less than 120 images threshold\n",
      "category 25: 101 total images. WARNING! Less than 120 images threshold\n",
      "category 27: 228 total images\n",
      "category 28: 174 total images\n",
      "category 31: 292 total images\n",
      "category 32: 145 total images\n",
      "category 33: 105 total images. WARNING! Less than 120 images threshold\n",
      "category 34: 84 total images. WARNING! Less than 120 images threshold\n",
      "category 35: 120 total images\n",
      "category 36: 49 total images. WARNING! Less than 120 images threshold\n",
      "category 37: 169 total images\n",
      "category 38: 91 total images. WARNING! Less than 120 images threshold\n",
      "category 39: 97 total images. WARNING! Less than 120 images threshold\n",
      "category 40: 100 total images. WARNING! Less than 120 images threshold\n",
      "category 41: 127 total images\n",
      "category 42: 149 total images\n",
      "category 43: 167 total images\n",
      "category 44: 379 total images\n",
      "category 46: 110 total images. WARNING! Less than 120 images threshold\n",
      "category 47: 390 total images\n",
      "category 48: 155 total images\n",
      "category 49: 181 total images\n",
      "category 50: 153 total images\n",
      "category 51: 314 total images\n",
      "category 52: 103 total images. WARNING! Less than 120 images threshold\n",
      "category 53: 76 total images. WARNING! Less than 120 images threshold\n",
      "category 54: 98 total images. WARNING! Less than 120 images threshold\n",
      "category 55: 85 total images. WARNING! Less than 120 images threshold\n",
      "category 56: 71 total images. WARNING! Less than 120 images threshold\n",
      "category 57: 81 total images. WARNING! Less than 120 images threshold\n",
      "category 58: 51 total images. WARNING! Less than 120 images threshold\n",
      "category 59: 153 total images\n",
      "category 60: 62 total images. WARNING! Less than 120 images threshold\n",
      "category 61: 124 total images\n",
      "category 62: 580 total images\n",
      "category 63: 195 total images\n",
      "category 64: 172 total images\n",
      "category 65: 149 total images\n",
      "category 67: 501 total images\n",
      "category 70: 149 total images\n",
      "category 72: 207 total images\n",
      "category 73: 183 total images\n",
      "category 74: 88 total images. WARNING! Less than 120 images threshold\n",
      "category 75: 145 total images\n",
      "category 76: 106 total images. WARNING! Less than 120 images threshold\n",
      "category 77: 214 total images\n",
      "category 78: 54 total images. WARNING! Less than 120 images threshold\n",
      "category 79: 115 total images. WARNING! Less than 120 images threshold\n",
      "category 80: 8 total images. WARNING! Less than 120 images threshold\n",
      "category 81: 187 total images\n",
      "category 82: 101 total images. WARNING! Less than 120 images threshold\n",
      "category 84: 230 total images\n",
      "category 85: 204 total images\n",
      "category 86: 137 total images\n",
      "category 87: 28 total images. WARNING! Less than 120 images threshold\n",
      "category 88: 94 total images. WARNING! Less than 120 images threshold\n",
      "category 89: 9 total images. WARNING! Less than 120 images threshold\n",
      "category 90: 34 total images. WARNING! Less than 120 images threshold\n"
     ]
    },
    {
     "data": {
      "text/plain": [
       "'\\nfor img_id in img_ids:\\n    write_label_file(img_id)\\n'"
      ]
     },
     "execution_count": 18,
     "metadata": {},
     "output_type": "execute_result"
    }
   ],
   "source": [
    "img_ids = get_imgs_from_each_category(catIds, 120)\n",
    "\"\"\"\n",
    "for img_id in img_ids:\n",
    "    write_label_file(img_id)\n",
    "\"\"\"\n",
    "\n",
    "#print(len(ann_c))\n",
    "#print(ann_c)"
   ]
  },
  {
   "cell_type": "code",
   "execution_count": null,
   "metadata": {},
   "outputs": [],
   "source": [
    "import os\n",
    "import shutil\n",
    "\n",
    "def copy_images_for_dataset_dir():\n",
    "    src_image_dir = Path('/Users/azakaria/Downloads/val2017')\n",
    "    fs = os.listdir('/Users/azakaria/Code/openmpf-yolo-training/dataset/labels')\n",
    "    for f in fs:\n",
    "        src = str(src_image_dir/f.split('.')[0]) + '.jpg'\n",
    "        dest = '/Users/azakaria/Code/openmpf-yolo-training/dataset/images/' + f.split('.')[0] + '.jpg'\n",
    "        print(str(src_image_dir/f.split('.')[0]) + '.jpg')\n",
    "        shutil.copyfile(src, dest)\n",
    "        #print(image_dir/f.split('.')[0])\n",
    "    return\n",
    "copy_images_for_dataset_dir()"
   ]
  }
 ],
 "metadata": {
  "kernelspec": {
   "display_name": "Python 3.9.10 64-bit",
   "language": "python",
   "name": "python3"
  },
  "language_info": {
   "codemirror_mode": {
    "name": "ipython",
    "version": 3
   },
   "file_extension": ".py",
   "mimetype": "text/x-python",
   "name": "python",
   "nbconvert_exporter": "python",
   "pygments_lexer": "ipython3",
   "version": "3.9.12"
  },
  "orig_nbformat": 4,
  "vscode": {
   "interpreter": {
    "hash": "ac2eaa0ea0ebeafcc7822e65e46aa9d4f966f30b695406963e145ea4a91cd4fc"
   }
  }
 },
 "nbformat": 4,
 "nbformat_minor": 2
}
