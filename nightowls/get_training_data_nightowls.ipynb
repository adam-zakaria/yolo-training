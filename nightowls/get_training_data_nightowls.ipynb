{
 "cells": [
  {
   "cell_type": "code",
   "execution_count": 2,
   "metadata": {},
   "outputs": [],
   "source": [
    "%matplotlib inline\n",
    "from pycocotools.coco import COCO\n",
    "import numpy as np\n",
    "import skimage.io as io\n",
    "import matplotlib.pyplot as plt\n",
    "import pylab\n",
    "import random\n",
    "import json\n",
    "import os\n",
    "import shutil\n",
    "from pathlib import Path\n",
    "import os.path\n",
    "pylab.rcParams['figure.figsize'] = (8.0, 10.0)\n",
    "def coco_to_yolo_bb(x1, y1, w, h, image_w, image_h):\n",
    "    #\"bbox\": [x,y,width,height], (COCO)\n",
    "    #x_center y_center width height (YOLO)\n",
    "    return [((2*x1 + w)/(2*image_w)) , ((2*y1 + h)/(2*image_h)), w/image_w, h/image_h]"
   ]
  },
  {
   "cell_type": "code",
   "execution_count": 3,
   "metadata": {},
   "outputs": [],
   "source": [
    "dataDir='/Users/azakaria/Downloads'\n",
    "#dataType='val2017'\n",
    "annFile=f'/Users/azakaria/Downloads/nightowls_validation.json'"
   ]
  },
  {
   "cell_type": "code",
   "execution_count": 4,
   "metadata": {},
   "outputs": [
    {
     "name": "stdout",
     "output_type": "stream",
     "text": [
      "loading annotations into memory...\n",
      "Done (t=0.25s)\n",
      "creating index...\n",
      "index created!\n"
     ]
    }
   ],
   "source": [
    "# initialize COCO api for instance annotations\n",
    "coco=COCO(annFile)"
   ]
  },
  {
   "cell_type": "code",
   "execution_count": 5,
   "metadata": {},
   "outputs": [],
   "source": [
    "# display COCO categories and supercategories\n",
    "cats = coco.loadCats(coco.getCatIds())\n",
    "cat_map = {}\n",
    "for i,cat in enumerate(cats):\n",
    "    cat_map[cat['id']] = i\n",
    "nms=[cat['name'] for cat in cats]"
   ]
  },
  {
   "cell_type": "code",
   "execution_count": 6,
   "metadata": {},
   "outputs": [],
   "source": [
    "catIds = coco.getCatIds()"
   ]
  },
  {
   "cell_type": "code",
   "execution_count": 9,
   "metadata": {},
   "outputs": [],
   "source": [
    "#For viewing in the debugger\n",
    "#Nice because no prints needed\n",
    "imgIds = coco.getImgIds()\n",
    "imgs = coco.loadImgs(ids = imgIds)\n",
    "annIds = coco.getAnnIds(imgIds=imgIds)\n",
    "anns = coco.loadAnns(ids = annIds)"
   ]
  },
  {
   "cell_type": "code",
   "execution_count": 17,
   "metadata": {},
   "outputs": [
    {
     "name": "stdout",
     "output_type": "stream",
     "text": [
      "[7000000, 7000001, 7000002, 7000003, 7000004, 7000005, 7000006, 7000007, 7000008, 7000009, 7000010, 7000011, 7000012, 7000013, 7000014, 7000015, 7000016, 7000017, 7000018, 7000019, 7000020, 7000021, 7000022, 7000023, 7000024, 7000025, 7000026, 7000027, 7000028, 7000029, 7000030, 7000031, 7000032, 7000033, 7000034, 7000035, 7000036, 7000037, 7000038, 7000039, 7000040, 7000041, 7000042, 7000043, 7000044, 7000045, 7000046, 7000047, 7000048, 7000049, 7000050, 7000051, 7000052, 7000053, 7000054, 7000055, 7000056, 7000057, 7000058, 7000059, 7000060, 7000114, 7000115, 7000116, 7000117, 7000118, 7000119, 7000120, 7000121, 7000122, 7000123, 7000124, 7000125, 7000126, 7000127, 7000128, 7000129, 7000130, 7000131, 7000132, 7000133, 7000134, 7000135, 7000136, 7000137, 7000138, 7000139, 7000140, 7000141, 7000142, 7000143, 7000144, 7000145, 7000146, 7000147, 7000148, 7000149, 7000150, 7000151, 7000152, 7000153, 7000154, 7000155, 7000156, 7000157, 7000158, 7000159, 7000160, 7000161, 7000162, 7000163, 7000164, 7000165, 7000166, 7000167, 7000168, 7000169, 7000170, 7000171, 7000172]\n"
     ]
    }
   ],
   "source": [
    "#region\n",
    "def remove_negative_bbox_anns(anns):\n",
    "    valid_anns = []\n",
    "    negative_bbox = False\n",
    "    for ann in anns:\n",
    "        for bbox_val in ann['bbox']:\n",
    "            if bbox_val <= 0:\n",
    "                negative_bbox = True\n",
    "        if negative_bbox == False:\n",
    "            valid_anns.append(ann)\n",
    "            #print(ann['bbox'])\n",
    "        negative_bbox = False\n",
    "    #for v in valid_anns:\n",
    "        #print(v['bbox'])\n",
    "    return valid_anns\n",
    "\n",
    "#endregion\n",
    "\"\"\"\n",
    "getImgIds() -> list[imgId] \n",
    "loadImgs(ids : [imgId]) -> list[img]\n",
    "getAnnIds(imgIds: list[imgId]) -> list[annId]\n",
    "loadAnns(ids: list[annId]) -> list[ann]\n",
    "\n",
    "*One imgId can be multiple annIds\n",
    "*One annId is one ann\n",
    "\n",
    "\n",
    "#imgIds need to have annotations and those annotations bboxes must not be negative\n",
    "#write_label_files need\n",
    "    #filename, which are in imgs\n",
    "    #catIds, which are in anns\n",
    "    #bboxes, which are in anns\n",
    "\"\"\"\n",
    "\n",
    "def get_img_ids(numImgs):\n",
    "    imgIds = coco.getImgIds()\n",
    "    imgIds0 = []\n",
    "    for imgId in imgIds:\n",
    "        if imgId_has_annotation(imgId) and imgId_has_positive_bbox(imgId):\n",
    "            imgIds0.append(imgId)\n",
    "        if(len(imgIds0) == numImgs):\n",
    "            break\n",
    "    return imgIds0\n",
    "\n",
    "def imgId_has_annotation(imgId):\n",
    "    annIds = coco.getAnnIds(imgIds=imgId)\n",
    "    if(len(annIds) > 0):\n",
    "        return True\n",
    "    else:\n",
    "        return False\n",
    "\n",
    "def imgId_has_positive_bbox(imgId):\n",
    "    annIds = coco.getAnnIds(imgIds=imgId)\n",
    "    for ann in anns:\n",
    "        for bbox_val in ann['bbox']:\n",
    "            if bbox_val <= 0:\n",
    "                negative_bbox = True\n",
    "            else:\n",
    "                negative_bbox = False \n",
    "        if negative_bbox == True:\n",
    "            return False\n",
    "        else:\n",
    "            return True\n",
    "\n",
    "\n",
    "imgIds = get_img_ids(120)\n",
    "print(len(imgIds))\n",
    "#region\n",
    "#assert len(imgIds) == 120\n",
    "\n",
    "def get_imgIds_that_have_anns():\n",
    "    imgIdsPre = coco.getImgIds()\n",
    "    imgIds = []\n",
    "    random.shuffle(imgIds)\n",
    "    i=0\n",
    "    for imgId in imgIdsPre:\n",
    "        annIds = coco.getAnnIds(imgIds = imgId, catIds=catIds)\n",
    "        if(len(annIds) > 0):\n",
    "            anns = coco.loadAnns(ids = annIds, catIds=catIds)\n",
    "            imgIds.append(imgId)\n",
    "            i += 1\n",
    "        if i >= 120:\n",
    "            break\n",
    "    \n",
    "    return imgIds\n",
    "\n",
    "def test_pipeline():\n",
    "    imgIds = get_imgIds_that_have_anns()\n",
    "    allAnnIds = []\n",
    "    for imgId in imgIds:\n",
    "        annIds = coco.getAnnIds(imgIds = imgId, catIds=catIds)\n",
    "        allAnnIds.append(annIds)\n",
    "        #print(len(coco.getAnnIds(imgIds = imgId, catIds=catIds)))\n",
    "        assert len(annIds) > 0\n",
    "    print('All imgIds have annIds')\n",
    "    allAnns = []\n",
    "    for annId in allAnnIds:\n",
    "        anns = coco.loadAnns(annId)\n",
    "        allAnns.append(anns)\n",
    "        assert len(anns) > 0\n",
    "        for ann in anns:\n",
    "            assert 'bbox' in ann\n",
    "    print('All annIds have anns')\n",
    "    print('All anns have bbox')\n",
    "    print(f'len(imgIds): {len(imgIds)}')\n",
    "    print(f'len(allAnnIds): {len(allAnnIds)}')\n",
    "    print(f'len(allAnns): {len(allAnns)}')\n",
    "def write_label_files(numImgs):\n",
    "    \"\"\"\n",
    "    Some images:\n",
    "    *Do not have annotations.\n",
    "    *Have negative bboxes\n",
    "    \"\"\"\n",
    "    imgIds = get_imgIds_that_have_anns()\n",
    "\n",
    "    for imgId in imgIds:\n",
    "        img = coco.loadImgs(imgId)[0] #If only 1 imgId, len() = 1\n",
    "        label_dir = Path('/Users/azakaria/Code/openmpf-yolo-training/nightowls/dataset/labels')\n",
    "        filename = img['file_name'].split('.')[0] + '.txt'\n",
    "        with open(label_dir/filename, 'w') as file:\n",
    "            annIds = coco.getAnnIds(imgIds = imgId, catIds=catIds)\n",
    "            anns = coco.loadAnns(annIds)\n",
    "            print(len(anns))\n",
    "            print('-----------------------------')\n",
    "            anns = remove_negative_bbox_anns(anns)\n",
    "            for ann in anns:\n",
    "                x_center, y_center, width, height = coco_to_yolo_bb(*ann['bbox'], img['width'], img['height'])\n",
    "                file.write(f'{cat_map[ann[\"category_id\"]]}\\t{x_center}\\t{y_center}\\t{width}\\t{height}\\n')\n",
    "    return\n",
    "def copy_images_to_dataset_dir(src_image_dir, dest_image_dir, image_extension):\n",
    "    \"\"\"\n",
    "    x number of labels are written to the labels dir by write_label_files(x)\n",
    "    This function copies the corresponding images into the sibling images dir, completing the dataset folder for YOLO training\n",
    "    \"\"\"\n",
    "    fs = os.listdir('/Users/azakaria/Code/openmpf-yolo-training/nightowls/dataset/labels')\n",
    "    for f in fs:\n",
    "        src = str(src_image_dir/f.split('.')[0]) + image_extension\n",
    "        dest = str(dest_image_dir/ f.split('.')[0]) + image_extension\n",
    "        #print(src)\n",
    "        #print(dest)\n",
    "        #print('----------------')\n",
    "        if os.path.isfile(src):\n",
    "            shutil.copyfile(src, dest)\n",
    "            #/Users/azakaria/Downloads/nightowls_validation.png is not a file\n",
    "            #print(f'{src} is a file')\n",
    "        else:\n",
    "            print(f'{src} is not a file')\n",
    "    return\n",
    "\n",
    "#write_label_files(120) #dataset/labels\n",
    "#copy_images_to_dataset_dir(Path('/Users/azakaria/Downloads/nightowls_validation'),Path('/Users/azakaria/Code/openmpf-yolo-training/nightowls/dataset/images/'), '.png') #dataset/images\n",
    "\n",
    "#endregion"
   ]
  },
  {
   "cell_type": "code",
   "execution_count": 2,
   "metadata": {},
   "outputs": [
    {
     "ename": "NameError",
     "evalue": "name 'allAnns' is not defined",
     "output_type": "error",
     "traceback": [
      "\u001b[0;31m---------------------------------------------------------------------------\u001b[0m",
      "\u001b[0;31mNameError\u001b[0m                                 Traceback (most recent call last)",
      "\u001b[0;32m/var/folders/74/8dm4w0616k7f9j5g46qxjmlm0000gn/T/ipykernel_37244/4096842891.py\u001b[0m in \u001b[0;36m<module>\u001b[0;34m\u001b[0m\n\u001b[0;32m----> 1\u001b[0;31m \u001b[0mprint\u001b[0m\u001b[0;34m(\u001b[0m\u001b[0mlen\u001b[0m\u001b[0;34m(\u001b[0m\u001b[0mallAnns\u001b[0m\u001b[0;34m)\u001b[0m\u001b[0;34m)\u001b[0m\u001b[0;34m\u001b[0m\u001b[0;34m\u001b[0m\u001b[0m\n\u001b[0m\u001b[1;32m      2\u001b[0m \u001b[0;32mfor\u001b[0m \u001b[0manns\u001b[0m \u001b[0;32min\u001b[0m \u001b[0mallAnns\u001b[0m\u001b[0;34m:\u001b[0m\u001b[0;34m\u001b[0m\u001b[0;34m\u001b[0m\u001b[0m\n\u001b[1;32m      3\u001b[0m     \u001b[0;32mfor\u001b[0m \u001b[0mann\u001b[0m \u001b[0;32min\u001b[0m \u001b[0manns\u001b[0m\u001b[0;34m:\u001b[0m\u001b[0;34m\u001b[0m\u001b[0;34m\u001b[0m\u001b[0m\n\u001b[1;32m      4\u001b[0m         \u001b[0mprint\u001b[0m\u001b[0;34m(\u001b[0m\u001b[0mann\u001b[0m\u001b[0;34m[\u001b[0m\u001b[0;34m'bbox'\u001b[0m\u001b[0;34m]\u001b[0m\u001b[0;34m)\u001b[0m\u001b[0;34m\u001b[0m\u001b[0;34m\u001b[0m\u001b[0m\n",
      "\u001b[0;31mNameError\u001b[0m: name 'allAnns' is not defined"
     ]
    }
   ],
   "source": [
    "print(len(allAnns))\n",
    "for anns in allAnns:\n",
    "    for ann in anns:\n",
    "        print(ann['bbox'])"
   ]
  },
  {
   "cell_type": "code",
   "execution_count": 46,
   "metadata": {},
   "outputs": [
    {
     "name": "stdout",
     "output_type": "stream",
     "text": [
      "/Users/azakaria/Downloads/nightowls_validation.png is not a file\n"
     ]
    }
   ],
   "source": [
    "#rm -rf /Users/azakaria/Code/openmpf-yolo-training/nightowls/dataset/images/*; rm -rf /Users/azakaria/Code/openmpf-yolo-training/nightowls/dataset/labels/*\n",
    "#docker cp /Users/azakaria/Code/openmpf-yolo-training/nightowls/dataset/. 5dcf6e04dbba:/usr/src/datasets/nightowls_val\n",
    "#ls nightowls/dataset/images | wc -l ; ls nightowls/dataset/labels | wc -l"
   ]
  }
 ],
 "metadata": {
  "kernelspec": {
   "display_name": "Python 3.9.10 64-bit",
   "language": "python",
   "name": "python3"
  },
  "language_info": {
   "codemirror_mode": {
    "name": "ipython",
    "version": 3
   },
   "file_extension": ".py",
   "mimetype": "text/x-python",
   "name": "python",
   "nbconvert_exporter": "python",
   "pygments_lexer": "ipython3",
   "version": "3.9.12"
  },
  "orig_nbformat": 4,
  "vscode": {
   "interpreter": {
    "hash": "ac2eaa0ea0ebeafcc7822e65e46aa9d4f966f30b695406963e145ea4a91cd4fc"
   }
  }
 },
 "nbformat": 4,
 "nbformat_minor": 2
}
