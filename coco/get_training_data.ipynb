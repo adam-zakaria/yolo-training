{
 "cells": [
  {
   "cell_type": "code",
   "execution_count": 11,
   "metadata": {},
   "outputs": [],
   "source": [
    "%matplotlib inline\n",
    "from pycocotools.coco import COCO\n",
    "import numpy as np\n",
    "import skimage.io as io\n",
    "import matplotlib.pyplot as plt\n",
    "import pylab\n",
    "import json\n",
    "pylab.rcParams['figure.figsize'] = (8.0, 10.0)\n"
   ]
  },
  {
   "cell_type": "code",
   "execution_count": 12,
   "metadata": {},
   "outputs": [],
   "source": [
    "dataDir='/Users/azakaria/Downloads'\n",
    "dataType='val2017'\n",
    "annFile=f'{dataDir}/annotations/instances_{dataType}.json'"
   ]
  },
  {
   "cell_type": "code",
   "execution_count": 13,
   "metadata": {},
   "outputs": [
    {
     "name": "stdout",
     "output_type": "stream",
     "text": [
      "loading annotations into memory...\n",
      "Done (t=0.93s)\n",
      "creating index...\n",
      "index created!\n"
     ]
    }
   ],
   "source": [
    "# initialize COCO api for instance annotations\n",
    "coco=COCO(annFile)"
   ]
  },
  {
   "cell_type": "code",
   "execution_count": 14,
   "metadata": {},
   "outputs": [],
   "source": [
    "# display COCO categories and supercategories\n",
    "cats = coco.loadCats(coco.getCatIds())\n",
    "cat_map = {}\n",
    "for i,cat in enumerate(cats):\n",
    "    cat_map[cat['id']] = i\n",
    "#print(len(cats))\n",
    "#print(coco.anns.keys()) #keys are the image ids I believe\n",
    "#print(coco.anns[1768].keys())\n",
    "nms=[cat['name'] for cat in cats]\n",
    "#print(nms)\n",
    "#print([cat['id'] for cat in cats])"
   ]
  },
  {
   "cell_type": "code",
   "execution_count": 15,
   "metadata": {},
   "outputs": [],
   "source": [
    "import random \n",
    "catIds = coco.getCatIds()\n",
    "def get_imgs_from_each_category(catIds, numImgs):\n",
    "    imgIds = []\n",
    "    for catId in catIds:\n",
    "        imgIds_current_batch = coco.getImgIds(catIds=[catId])\n",
    "        random.shuffle(imgIds_current_batch)\n",
    "        imgIds_current_batch = imgIds_current_batch[:numImgs]\n",
    "        \"\"\"\n",
    "        if(len(imgIds_current_batch) < numImgs):\n",
    "            print(f'category {catId}: {len(imgIds_current_batch)} total images. WARNING! Less than {numImgs} images threshold')\n",
    "            #print(f'WARNING! Less than {numImgs} images in category {catId}! {len(imgIds_current_batch)} total images')\n",
    "        else:\n",
    "            print(f'category {catId}: {len(imgIds_current_batch)} total images')\n",
    "        \"\"\"\n",
    "        imgIds = imgIds + imgIds_current_batch\n",
    "    return imgIds"
   ]
  },
  {
   "cell_type": "code",
   "execution_count": 16,
   "metadata": {},
   "outputs": [],
   "source": [
    "from pathlib import Path\n",
    "def coco_to_yolo_bb(x1, y1, w, h, image_w, image_h):\n",
    "    #\"bbox\": [x,y,width,height], (COCO)\n",
    "    #x_center y_center width height (YOLO)\n",
    "    return [((2*x1 + w)/(2*image_w)) , ((2*y1 + h)/(2*image_h)), w/image_w, h/image_h]\n",
    "ann_c = set()\n",
    "def write_label_file(imgId):\n",
    "    # using with statement\n",
    "    img = coco.loadImgs(imgId)[0]\n",
    "    label_dir = Path('/Users/azakaria/Code/openmpf-yolo-training/coco/dataset/labels')\n",
    "    filename = img['file_name'].split('.')[0] + '.txt'\n",
    "    #print(img['file_name'])\n",
    "    with open(label_dir/filename, 'w') as file:\n",
    "        for ann in coco.loadAnns(coco.getAnnIds(imgIds = imgId, catIds=catIds)):\n",
    "            ann_c.add(cat_map[ann[\"category_id\"]])\n",
    "            if cat_map[ann[\"category_id\"]] > 80:\n",
    "                print(f'cat_id > 80 {ann[\"category_id\"]}')\n",
    "            x_center, y_center, width, height = coco_to_yolo_bb(*ann['bbox'], img['width'], img['height'])\n",
    "            file.write(f'{cat_map[ann[\"category_id\"]]} {x_center} {y_center} {width} {height}\\n')\n",
    "    return"
   ]
  },
  {
   "cell_type": "code",
   "execution_count": 17,
   "metadata": {},
   "outputs": [],
   "source": [
    "import os\n",
    "os.system('rm -rf /Users/azakaria/Code/openmpf-yolo-training/coco/dataset/images/*; rm -rf /Users/azakaria/Code/openmpf-yolo-training/coco/dataset/labels/*')\n",
    "img_ids = get_imgs_from_each_category(catIds, 6)\n",
    "for img_id in img_ids:\n",
    "    write_label_file(img_id)"
   ]
  },
  {
   "cell_type": "code",
   "execution_count": 18,
   "metadata": {},
   "outputs": [
    {
     "name": "stderr",
     "output_type": "stream",
     "text": [
      "the input device is not a TTY\n",
      "the input device is not a TTY\n"
     ]
    },
    {
     "name": "stdout",
     "output_type": "stream",
     "text": [
      "     460\n",
      "     460\n"
     ]
    },
    {
     "data": {
      "text/plain": [
       "0"
      ]
     },
     "execution_count": 18,
     "metadata": {},
     "output_type": "execute_result"
    }
   ],
   "source": [
    "import os\n",
    "import shutil\n",
    "\n",
    "def copy_images_for_dataset_dir():\n",
    "    src_image_dir = Path('/Users/azakaria/Downloads/val2017')\n",
    "    fs = os.listdir('/Users/azakaria/Code/openmpf-yolo-training/coco/dataset/labels')\n",
    "    for f in fs:\n",
    "        if f == '.DS_Store':\n",
    "            continue\n",
    "        src = str(src_image_dir/f.split('.')[0]) + '.jpg'\n",
    "        dest = '/Users/azakaria/Code/openmpf-yolo-training/coco/dataset/images/' + f.split('.')[0] + '.jpg'\n",
    "\n",
    "        #print(str(src_image_dir/f.split('.')[0]) + '.jpg')\n",
    "        shutil.copyfile(src, dest)\n",
    "        #print(image_dir/f.split('.')[0])\n",
    "    return\n",
    "copy_images_for_dataset_dir()\n",
    "os.system('/usr/local/bin/docker exec -ti 5dcf6e04dbba rm -rf /usr/src/datasets/coco_120_max_each_cat/images')\n",
    "os.system('/usr/local/bin/docker exec -ti 5dcf6e04dbba rm -rf /usr/src/datasets/coco_120_max_each_cat/labels')\n",
    "os.system('/usr/local/bin/docker cp /Users/azakaria/Code/openmpf-yolo-training/coco/dataset/. 5dcf6e04dbba:/usr/src/datasets/coco_120_max_each_cat')\n",
    "os.system('ls /Users/azakaria/Code/openmpf-yolo-training/coco/dataset/images | wc -l ; ls /Users/azakaria/Code/openmpf-yolo-training/coco/dataset/labels | wc -l')\n",
    "#root@5dcf6e04dbba:/usr/src/yolov5/misc# ls /usr/src/datasets/coco_120_max_each_cat/labels | wc -l ; ls /usr/src/datasets/coco_120_max_each_cat/images | wc -l\n",
    "#4952"
   ]
  }
 ],
 "metadata": {
  "kernelspec": {
   "display_name": "Python 3.9.10 64-bit",
   "language": "python",
   "name": "python3"
  },
  "language_info": {
   "codemirror_mode": {
    "name": "ipython",
    "version": 3
   },
   "file_extension": ".py",
   "mimetype": "text/x-python",
   "name": "python",
   "nbconvert_exporter": "python",
   "pygments_lexer": "ipython3",
   "version": "3.9.13"
  },
  "orig_nbformat": 4,
  "vscode": {
   "interpreter": {
    "hash": "ac2eaa0ea0ebeafcc7822e65e46aa9d4f966f30b695406963e145ea4a91cd4fc"
   }
  }
 },
 "nbformat": 4,
 "nbformat_minor": 2
}
