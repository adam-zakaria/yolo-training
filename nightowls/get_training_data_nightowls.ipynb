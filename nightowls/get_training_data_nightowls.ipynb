{
 "cells": [
  {
   "cell_type": "code",
   "execution_count": 44,
   "metadata": {},
   "outputs": [],
   "source": [
    "%matplotlib inline\n",
    "from pycocotools.coco import COCO\n",
    "import numpy as np\n",
    "import skimage.io as io\n",
    "import matplotlib.pyplot as plt\n",
    "import pylab\n",
    "import random\n",
    "import json\n",
    "pylab.rcParams['figure.figsize'] = (8.0, 10.0)\n"
   ]
  },
  {
   "cell_type": "code",
   "execution_count": 45,
   "metadata": {},
   "outputs": [],
   "source": [
    "dataDir='/Users/azakaria/Downloads'\n",
    "#dataType='val2017'\n",
    "annFile=f'/Users/azakaria/Downloads/nightowls_validation.json'"
   ]
  },
  {
   "cell_type": "code",
   "execution_count": 46,
   "metadata": {},
   "outputs": [
    {
     "name": "stdout",
     "output_type": "stream",
     "text": [
      "loading annotations into memory...\n",
      "Done (t=0.17s)\n",
      "creating index...\n",
      "index created!\n"
     ]
    }
   ],
   "source": [
    "# initialize COCO api for instance annotations\n",
    "coco=COCO(annFile)"
   ]
  },
  {
   "cell_type": "code",
   "execution_count": 47,
   "metadata": {},
   "outputs": [],
   "source": [
    "# display COCO categories and supercategories\n",
    "cats = coco.loadCats(coco.getCatIds())\n",
    "cat_map = {}\n",
    "for i,cat in enumerate(cats):\n",
    "    cat_map[cat['id']] = i\n",
    "nms=[cat['name'] for cat in cats]"
   ]
  },
  {
   "cell_type": "code",
   "execution_count": 48,
   "metadata": {},
   "outputs": [],
   "source": [
    "catIds = coco.getCatIds()"
   ]
  },
  {
   "cell_type": "code",
   "execution_count": 52,
   "metadata": {},
   "outputs": [],
   "source": [
    "negative_bbox_annotations = []\n",
    "imgIds = coco.getImgIds()\n",
    "def remove_negative_bbox_anns(anns):\n",
    "    valid_anns = []\n",
    "    negative_bbox = False\n",
    "    for ann in anns:\n",
    "        for bbox_val in ann['bbox']:\n",
    "            if bbox_val >= 0:\n",
    "                #This is throwing a keyerror\n",
    "                if ann['id'] in imgIds:\n",
    "                    negative_bbox = True\n",
    "        negative_bbox = False\n",
    "        valid_anns.append(ann)\n",
    "    for v in valid_anns:\n",
    "        print(v['bbox'])\n",
    "    return valid_anns\n",
    "\n",
    "from pathlib import Path\n",
    "def coco_to_yolo_bb(x1, y1, w, h, image_w, image_h):\n",
    "    #\"bbox\": [x,y,width,height], (COCO)\n",
    "    #x_center y_center width height (YOLO)\n",
    "    return [((2*x1 + w)/(2*image_w)) , ((2*y1 + h)/(2*image_h)), w/image_w, h/image_h]\n",
    "def generate_labels(numImgs):\n",
    "    # using with statement\n",
    "    imgIds = coco.getImgIds()\n",
    "    random.shuffle(imgIds)\n",
    "    imgIds = imgIds[:numImgs]\n",
    "    for imgId in imgIds:\n",
    "        img = coco.loadImgs(imgId)[0] #If only 1 imgId, len() = 1\n",
    "        label_dir = Path('/Users/azakaria/Code/openmpf-yolo-training/nightowls/dataset/labels')\n",
    "        filename = img['file_name'].split('.')[0] + '.txt'\n",
    "        with open(label_dir/filename, 'w') as file:\n",
    "            anns = coco.loadAnns(coco.getAnnIds(imgIds = imgId, catIds=catIds))\n",
    "            anns = remove_negative_bbox_anns(anns)\n",
    "            for ann in anns:\n",
    "                #filter out negative bb\n",
    "                x_center, y_center, width, height = coco_to_yolo_bb(*ann['bbox'], img['width'], img['height'])\n",
    "                \"\"\"\n",
    "                print('filename')\n",
    "                print(filename)\n",
    "                print(\"*ann['bbox']\")\n",
    "                print(*ann['bbox'])\n",
    "                print(\"img['width'], img['height']\")\n",
    "                print(img['width'], img['height'])\n",
    "                print('x_center,y_center,width,height')\n",
    "                print(x_center,y_center,width,height)\n",
    "                print('--------------')\n",
    "                \"\"\"\n",
    "                if(int(cat_map[ann[\"category_id\"]]) > 2):\n",
    "                    print(cat_map[ann[\"category_id\"]])\n",
    "                file.write(f'{cat_map[ann[\"category_id\"]]}\\t{x_center}\\t{y_center}\\t{width}\\t{height}\\n')\n",
    "    return\n"
   ]
  },
  {
   "cell_type": "code",
   "execution_count": 54,
   "metadata": {},
   "outputs": [
    {
     "name": "stdout",
     "output_type": "stream",
     "text": [
      "[459, 212, 190, 102]\n",
      "[662, 211, 23, 79]\n",
      "3\n",
      "[306, 221, 41, 105]\n",
      "[650, 199, 22, 34]\n",
      "[622, 200, 28, 98]\n",
      "3\n",
      "[561, 207, 51, 132]\n",
      "[621, 220, 47, 123]\n",
      "[121, 226, 24, 59]\n",
      "[821, 206, 29, 83]\n",
      "[120, 185, 52, 193]\n",
      "[901, 165, 82, 254]\n",
      "[902, 230, 20, 43]\n",
      "[945, 220, 21, 71]\n",
      "3\n",
      "[28, 261, 183, 117]\n",
      "3\n",
      "[991, 254, 28, 103]\n",
      "[914, 266, 34, 89]\n",
      "[37, 246, 16, 33]\n",
      "3\n",
      "[737, 238, 37, 70]\n",
      "[378, 228, 24, 50]\n",
      "[974, 212, 122, 163]\n",
      "3\n",
      "[432, 252, 24, 25]\n",
      "3\n",
      "[956, 234, 8, 22]\n",
      "3\n",
      "[650, 219, 24, 64]\n",
      "[674, 215, 22, 47]\n",
      "[-59, 242, 232, 115]\n",
      "[166, 254, 26, 62]\n",
      "3\n",
      "[702, 247, 19, 44]\n",
      "[652, 238, 34, 47]\n",
      "3\n",
      "[362, 209, 48, 147]\n",
      "[110, 287, 116, 73]\n",
      "3\n",
      "[-10, 252, 120, 89]\n",
      "3\n",
      "[541, 315, 72, 213]\n",
      "[611, 356, 74, 73]\n",
      "3\n",
      "[999, 229, 46, 122]\n",
      "[966, 240, 40, 108]\n",
      "[110, 206, 49, 125]\n",
      "[160, 223, 37, 87]\n",
      "3\n",
      "[139, 215, 43, 157]\n",
      "[63, 218, 42, 138]\n",
      "[32, 230, 33, 119]\n",
      "[84, 246, 34, 101]\n",
      "[616, 226, 27, 62]\n"
     ]
    }
   ],
   "source": [
    "import os\n",
    "import shutil\n",
    "from pathlib import Path\n",
    "import os.path\n",
    "\n",
    "def copy_images_for_dataset_dir(src_image_dir, dest_image_dir, image_extension):\n",
    "    \"\"\"\n",
    "    x number of labels are written to the labels dir by write_label_files(x)\n",
    "    This function copies the corresponding images into the sibling images dir, completing the dataset folder for YOLO training\n",
    "    \"\"\"\n",
    "    fs = os.listdir('/Users/azakaria/Code/openmpf-yolo-training/nightowls/dataset/labels')\n",
    "    for f in fs:\n",
    "        src = str(src_image_dir/f.split('.')[0]) + image_extension\n",
    "        dest = str(dest_image_dir/ f.split('.')[0]) + image_extension\n",
    "        #print(src)\n",
    "        #print(dest)\n",
    "        #print('----------------')\n",
    "        if os.path.isfile(src):\n",
    "            shutil.copyfile(src, dest)\n",
    "            #print(f'{src} is a file')\n",
    "        else:\n",
    "            print(f'{src} is not a file')\n",
    "    return\n",
    "\n",
    "\n",
    "#rm -rf dataset/images/*; rm -rf dataset/labels/*\n",
    "#dataset/labels\n",
    "generate_labels(120)\n",
    "#dataset/images\n",
    "copy_images_for_dataset_dir(Path('/Users/azakaria/Downloads/nightowls_validation'),Path('/Users/azakaria/Code/openmpf-yolo-training/nightowls/dataset/images/'), '.png')\n",
    "#docker cp /Users/azakaria/Code/openmpf-yolo-training/nightowls/dataset/. 5dcf6e04dbba:/usr/src/datasets/nightowls_val"
   ]
  }
 ],
 "metadata": {
  "kernelspec": {
   "display_name": "Python 3.9.10 64-bit",
   "language": "python",
   "name": "python3"
  },
  "language_info": {
   "codemirror_mode": {
    "name": "ipython",
    "version": 3
   },
   "file_extension": ".py",
   "mimetype": "text/x-python",
   "name": "python",
   "nbconvert_exporter": "python",
   "pygments_lexer": "ipython3",
   "version": "3.9.12"
  },
  "orig_nbformat": 4,
  "vscode": {
   "interpreter": {
    "hash": "ac2eaa0ea0ebeafcc7822e65e46aa9d4f966f30b695406963e145ea4a91cd4fc"
   }
  }
 },
 "nbformat": 4,
 "nbformat_minor": 2
}
