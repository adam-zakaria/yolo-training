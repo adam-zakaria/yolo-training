{
 "cells": [
  {
   "cell_type": "code",
   "execution_count": 2,
   "metadata": {},
   "outputs": [],
   "source": [
    "%matplotlib inline\n",
    "from pycocotools.coco import COCO\n",
    "import numpy as np\n",
    "import skimage.io as io\n",
    "import matplotlib.pyplot as plt\n",
    "import pylab\n",
    "import random\n",
    "import json\n",
    "import os\n",
    "import shutil\n",
    "from pathlib import Path\n",
    "import os.path\n",
    "pylab.rcParams['figure.figsize'] = (8.0, 10.0)\n",
    "def coco_to_yolo_bb(x1, y1, w, h, image_w, image_h):\n",
    "    #\"bbox\": [x,y,width,height], (COCO)\n",
    "    #x_center y_center width height (YOLO)\n",
    "    return [((2*x1 + w)/(2*image_w)) , ((2*y1 + h)/(2*image_h)), w/image_w, h/image_h]"
   ]
  },
  {
   "cell_type": "code",
   "execution_count": 3,
   "metadata": {},
   "outputs": [],
   "source": [
    "dataDir='/Users/azakaria/Downloads'\n",
    "#dataType='val2017'\n",
    "annFile=f'/Users/azakaria/Downloads/nightowls_validation.json'"
   ]
  },
  {
   "cell_type": "code",
   "execution_count": 4,
   "metadata": {},
   "outputs": [
    {
     "name": "stdout",
     "output_type": "stream",
     "text": [
      "loading annotations into memory...\n",
      "Done (t=0.25s)\n",
      "creating index...\n",
      "index created!\n"
     ]
    }
   ],
   "source": [
    "# initialize COCO api for instance annotations\n",
    "coco=COCO(annFile)"
   ]
  },
  {
   "cell_type": "code",
   "execution_count": 5,
   "metadata": {},
   "outputs": [],
   "source": [
    "# display COCO categories and supercategories\n",
    "cats = coco.loadCats(coco.getCatIds())\n",
    "cat_map = {}\n",
    "for i,cat in enumerate(cats):\n",
    "    cat_map[cat['id']] = i\n",
    "nms=[cat['name'] for cat in cats]"
   ]
  },
  {
   "cell_type": "code",
   "execution_count": 6,
   "metadata": {},
   "outputs": [],
   "source": [
    "catIds = coco.getCatIds()"
   ]
  },
  {
   "cell_type": "code",
   "execution_count": 9,
   "metadata": {},
   "outputs": [],
   "source": [
    "#For viewing in the debugger\n",
    "#Nice because no prints needed\n",
    "\"\"\"\n",
    "imgIds = coco.getImgIds()\n",
    "imgs = coco.loadImgs(ids = imgIds)\n",
    "annIds = coco.getAnnIds(imgIds=imgIds)\n",
    "anns = coco.loadAnns(ids = annIds)\n",
    "\"\"\""
   ]
  },
  {
   "cell_type": "code",
   "execution_count": null,
   "metadata": {},
   "outputs": [],
   "source": [
    "#region\n",
    "def remove_negative_bbox_anns(anns):\n",
    "    valid_anns = []\n",
    "    negative_bbox = False\n",
    "    for ann in anns:\n",
    "        for bbox_val in ann['bbox']:\n",
    "            if bbox_val <= 0:\n",
    "                negative_bbox = True\n",
    "        if negative_bbox == False:\n",
    "            valid_anns.append(ann)\n",
    "            #print(ann['bbox'])\n",
    "        negative_bbox = False\n",
    "    #for v in valid_anns:\n",
    "        #print(v['bbox'])\n",
    "    return valid_anns\n",
    "\n",
    "#endregion\n",
    "\"\"\"\n",
    "getImgIds() -> list[imgId] \n",
    "loadImgs(ids : [imgId]) -> list[img]\n",
    "getAnnIds(imgIds: list[imgId]) -> list[annId]\n",
    "loadAnns(ids: list[annId]) -> list[ann]\n",
    "\n",
    "*One imgId can be multiple annIds\n",
    "*One annId is one ann\n",
    "\n",
    "\n",
    "#imgIds need to have annotations and those annotations bboxes must not be negative\n",
    "#write_label_files need\n",
    "    #filename, which are in imgs\n",
    "    #catIds, which are in anns\n",
    "    #bboxes, which are in anns\n",
    "\"\"\"\n",
    "\n",
    "def get_img_ids(numImgs):\n",
    "    imgIds = coco.getImgIds()\n",
    "    imgIds0 = []\n",
    "    for imgId in imgIds:\n",
    "        if imgId_has_annotation(imgId) and imgId_has_positive_bbox(imgId):\n",
    "            imgIds0.append(imgId)\n",
    "        if(len(imgIds0) == numImgs):\n",
    "            break\n",
    "    return imgIds0\n",
    "\n",
    "def imgId_has_annotation(imgId):\n",
    "    annIds = coco.getAnnIds(imgIds=imgId)\n",
    "    if(len(annIds) > 0):\n",
    "        return True\n",
    "    else:\n",
    "        return False\n",
    "\n",
    "def imgId_has_positive_bbox(imgId):\n",
    "    annIds = coco.getAnnIds(imgIds=imgId)\n",
    "    for ann in anns:\n",
    "        for bbox_val in ann['bbox']:\n",
    "            if bbox_val <= 0:\n",
    "                negative_bbox = True\n",
    "            else:\n",
    "                negative_bbox = False \n",
    "        if negative_bbox == True:\n",
    "            return False\n",
    "        else:\n",
    "            return True\n",
    "\n",
    "\n",
    "imgIds = get_img_ids(120)\n",
    "print(len(imgIds))\n",
    "\n",
    "\n",
    "def write_label_files(numImgs):\n",
    "    \"\"\"\n",
    "    Some images:\n",
    "    *Do not have annotations.\n",
    "    *Have negative bboxes\n",
    "    \"\"\"\n",
    "    imgIds = get_img_ids(numImgs)\n",
    "\n",
    "    for imgId in imgIds:\n",
    "        img = coco.loadImgs(imgId)[0] #If only 1 imgId, len() = 1\n",
    "        label_dir = Path('/Users/azakaria/Code/openmpf-yolo-training/nightowls/dataset/labels')\n",
    "        filename = img['file_name'].split('.')[0] + '.txt'\n",
    "        with open(label_dir/filename, 'w') as file:\n",
    "            annIds = coco.getAnnIds(imgIds = imgId, catIds=catIds)\n",
    "            anns = coco.loadAnns(annIds)\n",
    "            print(len(anns))\n",
    "            print('-----------------------------')\n",
    "            #anns = remove_negative_bbox_anns(anns)\n",
    "            for ann in anns:\n",
    "                x_center, y_center, width, height = coco_to_yolo_bb(*ann['bbox'], img['width'], img['height'])\n",
    "                file.write(f'{cat_map[ann[\"category_id\"]]}\\t{x_center}\\t{y_center}\\t{width}\\t{height}\\n')\n",
    "    return\n",
    "\n",
    "write_label_files(120)\n",
    "#region\n",
    "#assert len(imgIds) == 120\n",
    "\n",
    "def get_imgIds_that_have_anns():\n",
    "    imgIdsPre = coco.getImgIds()\n",
    "    imgIds = []\n",
    "    random.shuffle(imgIds)\n",
    "    i=0\n",
    "    for imgId in imgIdsPre:\n",
    "        annIds = coco.getAnnIds(imgIds = imgId, catIds=catIds)\n",
    "        if(len(annIds) > 0):\n",
    "            anns = coco.loadAnns(ids = annIds, catIds=catIds)\n",
    "            imgIds.append(imgId)\n",
    "            i += 1\n",
    "        if i >= 120:\n",
    "            break\n",
    "    \n",
    "    return imgIds\n",
    "\n",
    "def test_pipeline():\n",
    "    imgIds = get_imgIds_that_have_anns()\n",
    "    allAnnIds = []\n",
    "    for imgId in imgIds:\n",
    "        annIds = coco.getAnnIds(imgIds = imgId, catIds=catIds)\n",
    "        allAnnIds.append(annIds)\n",
    "        #print(len(coco.getAnnIds(imgIds = imgId, catIds=catIds)))\n",
    "        assert len(annIds) > 0\n",
    "    print('All imgIds have annIds')\n",
    "    allAnns = []\n",
    "    for annId in allAnnIds:\n",
    "        anns = coco.loadAnns(annId)\n",
    "        allAnns.append(anns)\n",
    "        assert len(anns) > 0\n",
    "        for ann in anns:\n",
    "            assert 'bbox' in ann\n",
    "    print('All annIds have anns')\n",
    "    print('All anns have bbox')\n",
    "    print(f'len(imgIds): {len(imgIds)}')\n",
    "    print(f'len(allAnnIds): {len(allAnnIds)}')\n",
    "    print(f'len(allAnns): {len(allAnns)}')\n",
    "def copy_images_to_dataset_dir(src_image_dir, dest_image_dir, image_extension):\n",
    "    \"\"\"\n",
    "    x number of labels are written to the labels dir by write_label_files(x)\n",
    "    This function copies the corresponding images into the sibling images dir, completing the dataset folder for YOLO training\n",
    "    \"\"\"\n",
    "    fs = os.listdir('/Users/azakaria/Code/openmpf-yolo-training/nightowls/dataset/labels')\n",
    "    for f in fs:\n",
    "        src = str(src_image_dir/f.split('.')[0]) + image_extension\n",
    "        dest = str(dest_image_dir/ f.split('.')[0]) + image_extension\n",
    "        #print(src)\n",
    "        #print(dest)\n",
    "        #print('----------------')\n",
    "        if os.path.isfile(src):\n",
    "            shutil.copyfile(src, dest)\n",
    "            #/Users/azakaria/Downloads/nightowls_validation.png is not a file\n",
    "            #print(f'{src} is a file')\n",
    "        else:\n",
    "            print(f'{src} is not a file')\n",
    "    return\n",
    "\n",
    "#write_label_files(120) #dataset/labels\n",
    "#copy_images_to_dataset_dir(Path('/Users/azakaria/Downloads/nightowls_validation'),Path('/Users/azakaria/Code/openmpf-yolo-training/nightowls/dataset/images/'), '.png') #dataset/images\n",
    "\n",
    "#endregion"
   ]
  },
  {
   "cell_type": "code",
   "execution_count": 31,
   "metadata": {},
   "outputs": [
    {
     "name": "stdout",
     "output_type": "stream",
     "text": [
      "<pycocotools.coco.COCO object at 0x1297f1250>\n",
      "[-0.01318359375, 0.434375, 0.0751953125, 0.31875]\n",
      "True\n"
     ]
    }
   ],
   "source": [
    "imgId = 7000058\n",
    "img = coco.loadImgs(ids = imgId)[0]\n",
    "annIds = coco.getAnnIds(imgIds = imgId)\n",
    "anns = coco.loadAnns(annIds)\n",
    "print(coco)\n",
    "\n",
    "for ann in anns:\n",
    "    print(coco_to_yolo_bb(*ann['bbox'], img['width'], img['height']))\n",
    "\n",
    "\n",
    "def imgId_has_positive_bboxs(imgId):\n",
    "    annIds = coco.getAnnIds(imgIds=imgId)\n",
    "    anns = coco.loadAnns(annIds)\n",
    "    for ann in anns:\n",
    "        negative_bbox = False \n",
    "        for bbox_val in ann['bbox']:\n",
    "            if bbox_val < 0:\n",
    "                negative_bbox = True\n",
    "        if negative_bbox == True:\n",
    "            return False\n",
    "    return True\n",
    "\n",
    "print(imgId_has_positive_bboxs(imgId))"
   ]
  },
  {
   "cell_type": "code",
   "execution_count": 46,
   "metadata": {},
   "outputs": [
    {
     "name": "stdout",
     "output_type": "stream",
     "text": [
      "/Users/azakaria/Downloads/nightowls_validation.png is not a file\n"
     ]
    }
   ],
   "source": [
    "#rm -rf /Users/azakaria/Code/openmpf-yolo-training/nightowls/dataset/images/*; rm -rf /Users/azakaria/Code/openmpf-yolo-training/nightowls/dataset/labels/*\n",
    "#docker cp /Users/azakaria/Code/openmpf-yolo-training/nightowls/dataset/. 5dcf6e04dbba:/usr/src/datasets/nightowls_val\n",
    "#ls nightowls/dataset/images | wc -l ; ls nightowls/dataset/labels | wc -l"
   ]
  }
 ],
 "metadata": {
  "kernelspec": {
   "display_name": "Python 3.9.10 64-bit",
   "language": "python",
   "name": "python3"
  },
  "language_info": {
   "codemirror_mode": {
    "name": "ipython",
    "version": 3
   },
   "file_extension": ".py",
   "mimetype": "text/x-python",
   "name": "python",
   "nbconvert_exporter": "python",
   "pygments_lexer": "ipython3",
   "version": "3.9.12"
  },
  "orig_nbformat": 4,
  "vscode": {
   "interpreter": {
    "hash": "ac2eaa0ea0ebeafcc7822e65e46aa9d4f966f30b695406963e145ea4a91cd4fc"
   }
  }
 },
 "nbformat": 4,
 "nbformat_minor": 2
}
