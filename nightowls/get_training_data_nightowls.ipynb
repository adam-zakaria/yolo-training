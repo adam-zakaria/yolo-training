{
 "cells": [
  {
   "cell_type": "code",
   "execution_count": 8,
   "metadata": {},
   "outputs": [],
   "source": [
    "%matplotlib inline\n",
    "from pycocotools.coco import COCO\n",
    "import numpy as np\n",
    "import skimage.io as io\n",
    "import matplotlib.pyplot as plt\n",
    "import pylab\n",
    "import random\n",
    "import json\n",
    "import os\n",
    "import shutil\n",
    "from pathlib import Path\n",
    "import os.path\n",
    "pylab.rcParams['figure.figsize'] = (8.0, 10.0)\n",
    "def coco_to_yolo_bb(x1, y1, w, h, image_w, image_h):\n",
    "    #\"bbox\": [x,y,width,height], (COCO)\n",
    "    #x_center y_center width height (YOLO)\n",
    "    return [((2*x1 + w)/(2*image_w)) , ((2*y1 + h)/(2*image_h)), w/image_w, h/image_h]"
   ]
  },
  {
   "cell_type": "code",
   "execution_count": 9,
   "metadata": {},
   "outputs": [],
   "source": [
    "dataDir='/Users/azakaria/Downloads'\n",
    "#dataType='val2017'\n",
    "annFile=f'/Users/azakaria/Downloads/nightowls_validation.json'"
   ]
  },
  {
   "cell_type": "code",
   "execution_count": 10,
   "metadata": {},
   "outputs": [
    {
     "name": "stdout",
     "output_type": "stream",
     "text": [
      "loading annotations into memory...\n",
      "Done (t=0.21s)\n",
      "creating index...\n",
      "index created!\n"
     ]
    }
   ],
   "source": [
    "# initialize COCO api for instance annotations\n",
    "coco=COCO(annFile)"
   ]
  },
  {
   "cell_type": "code",
   "execution_count": 11,
   "metadata": {},
   "outputs": [],
   "source": [
    "# display COCO categories and supercategories\n",
    "cats = coco.loadCats(coco.getCatIds())\n",
    "cat_map = {}\n",
    "for i,cat in enumerate(cats):\n",
    "    cat_map[cat['id']] = i\n",
    "nms=[cat['name'] for cat in cats]"
   ]
  },
  {
   "cell_type": "code",
   "execution_count": 12,
   "metadata": {},
   "outputs": [
    {
     "data": {
      "text/plain": [
       "{1: 0, 2: 1, 3: 2, 4: 3}"
      ]
     },
     "execution_count": 12,
     "metadata": {},
     "output_type": "execute_result"
    }
   ],
   "source": [
    "catIds = coco.getCatIds()\n",
    "def get_imgs_from_each_category(catIds, numImgs=None):\n",
    "    imgIds = []\n",
    "    for catId in catIds:\n",
    "        imgIds_current_batch = coco.getImgIds(catIds=[catId])[:numImgs]\n",
    "        if(len(imgIds_current_batch) < 30):\n",
    "            print('ERROR! Not 30 images in this category!')\n",
    "        imgIds = imgIds + imgIds_current_batch\n",
    "    return imgIds\n",
    "cat_map"
   ]
  },
  {
   "cell_type": "code",
   "execution_count": null,
   "metadata": {},
   "outputs": [],
   "source": [
    "\"\"\"\n",
    "getImgIds() -> list[imgId] \n",
    "loadImgs(ids : [imgId]) -> list[img]\n",
    "getAnnIds(imgIds: list[imgId]) -> list[annId]\n",
    "loadAnns(ids: list[annId]) -> list[ann]\n",
    "\n",
    "*One imgId can be multiple annIds\n",
    "*One annId is one ann\n",
    "\n",
    "\n",
    "#imgIds need to have annotations and those annotations bboxes must not be negative\n",
    "#write_label_files need\n",
    "    #filename, which are in imgs\n",
    "    #catIds, which are in anns\n",
    "    #bboxes, which are in anns\n",
    "\"\"\"\n",
    "\n",
    "def get_img_ids(numImgs_per_cat):\n",
    "    catIds = coco.getCatIds()\n",
    "    imgIds_total = []\n",
    "    for catId in catIds:\n",
    "        imgIds_cat = coco.getImgIds(catIds=[catId])\n",
    "        #imgIds = coco.getImgIds()\n",
    "        random.shuffle(imgIds_cat)\n",
    "        imgIds_current = []\n",
    "        for imgId in imgIds_cat:\n",
    "            if imgId_has_annotation(imgId) and imgId_has_positive_bboxes(imgId):\n",
    "                imgIds_current.append(imgId)\n",
    "            if(len(imgIds_current) == numImgs_per_cat):\n",
    "                break\n",
    "        imgIds_total = imgIds_total + imgIds_current\n",
    "    return imgIds_total\n",
    "\n",
    "imgIds = get_img_ids(120)\n",
    "\n",
    "def imgId_has_positive_bboxes(imgId):\n",
    "    annIds = coco.getAnnIds(imgIds=imgId)\n",
    "    anns = coco.loadAnns(annIds)\n",
    "    for ann in anns:\n",
    "        negative_bbox = False \n",
    "        for bbox_val in ann['bbox']:\n",
    "            if bbox_val < 0:\n",
    "                negative_bbox = True\n",
    "        if negative_bbox == True:\n",
    "            return False\n",
    "    return True\n",
    "\n",
    "def imgId_has_annotation(imgId):\n",
    "    annIds = coco.getAnnIds(imgIds=imgId)\n",
    "    if(len(annIds) > 0):\n",
    "        return True\n",
    "    else:\n",
    "        return False\n",
    "\n",
    "def write_label_files(numImgs_per_cat):\n",
    "    \"\"\"\n",
    "    Some images:\n",
    "    *Do not have annotations.\n",
    "    *Have negative bboxes\n",
    "    \"\"\"\n",
    "    imgIds = get_img_ids(numImgs_per_cat)\n",
    "\n",
    "    for imgId in imgIds:\n",
    "        img = coco.loadImgs(imgId)[0] #If only 1 imgId, len() = 1\n",
    "        label_dir = Path('/Users/azakaria/Code/openmpf-yolo-training/nightowls/dataset/labels')\n",
    "        filename = img['file_name'].split('.')[0] + '.txt'\n",
    "        with open(label_dir/filename, 'w') as file:\n",
    "            annIds = coco.getAnnIds(imgIds = imgId, catIds=catIds)\n",
    "            anns = coco.loadAnns(annIds)\n",
    "            print(len(anns))\n",
    "            print('-----------------------------')\n",
    "            #anns = remove_negative_bbox_anns(anns)\n",
    "            for i,ann in enumerate(anns):\n",
    "                x_center, y_center, width, height = coco_to_yolo_bb(*ann['bbox'], img['width'], img['height'])\n",
    "                file.write(f'{cat_map[ann[\"category_id\"]]}\\t{x_center}\\t{y_center}\\t{width}\\t{height}\\n')\n",
    "    return\n",
    "\n",
    "def copy_images_to_dataset_dir(src_image_dir, dest_image_dir, image_extension):\n",
    "    \"\"\"\n",
    "    x number of labels are written to the labels dir by write_label_files(x)\n",
    "    This function copies the corresponding images into the sibling images dir, completing the dataset folder for YOLO training\n",
    "    \"\"\"\n",
    "    fs = os.listdir('/Users/azakaria/Code/openmpf-yolo-training/nightowls/dataset/labels')\n",
    "    for f in fs:\n",
    "        src = str(src_image_dir/f.split('.')[0]) + image_extension\n",
    "        dest = str(dest_image_dir/ f.split('.')[0]) + image_extension\n",
    "        #print(src)\n",
    "        #print(dest)\n",
    "        #print('----------------')\n",
    "        if os.path.isfile(src):\n",
    "            shutil.copyfile(src, dest)\n",
    "            #/Users/azakaria/Downloads/nightowls_validation.png is not a file\n",
    "            #print(f'{src} is a file')\n",
    "        else:\n",
    "            print(f'{src} is not a file')\n",
    "    return\n",
    "\n",
    "#Currently outputting 473 instead of 480 (4*120)\n",
    "#So one of more categories has fewer than 120 valid images, it *seems*\n",
    "write_label_files(120) #dataset/labels\n",
    "copy_images_to_dataset_dir(Path('/Users/azakaria/Downloads/nightowls_validation'),Path('/Users/azakaria/Code/openmpf-yolo-training/nightowls/dataset/images/'), '.png') #dataset/images\n",
    "\n",
    "#endregion"
   ]
  },
  {
   "cell_type": "code",
   "execution_count": 17,
   "metadata": {},
   "outputs": [
    {
     "data": {
      "text/plain": [
       "[]"
      ]
     },
     "execution_count": 17,
     "metadata": {},
     "output_type": "execute_result"
    }
   ],
   "source": [
    "imgIds\n"
   ]
  },
  {
   "cell_type": "code",
   "execution_count": null,
   "metadata": {},
   "outputs": [],
   "source": [
    "#region useful test code for single imgId\n",
    "#imgId = 7000058\n",
    "imgIds = coco.getImgIds()\n",
    "imgId = imgIds[2]\n",
    "img = coco.loadImgs(ids = imgId)[0]\n",
    "annIds = coco.getAnnIds(imgIds = imgId)\n",
    "anns = coco.loadAnns(annIds)\n",
    "print(coco)\n",
    "\n",
    "fp = f'/Users/azakaria/Downloads/nightowls_validation/{img[\"file_name\"]}' \n",
    "I = io.imread(fp)\n",
    "plt.axis('off')\n",
    "plt.imshow(I)\n",
    "plt.show()\n",
    "#endregion"
   ]
  },
  {
   "cell_type": "code",
   "execution_count": null,
   "metadata": {},
   "outputs": [],
   "source": [
    "plt.imshow(I); plt.axis('off')\n",
    "coco.showAnns(anns, draw_bbox=True)"
   ]
  },
  {
   "cell_type": "code",
   "execution_count": 46,
   "metadata": {},
   "outputs": [
    {
     "name": "stdout",
     "output_type": "stream",
     "text": [
      "/Users/azakaria/Downloads/nightowls_validation.png is not a file\n"
     ]
    }
   ],
   "source": [
    "#Commands for workflow\n",
    "#rm -rf /Users/azakaria/Code/openmpf-yolo-training/nightowls/dataset/images/*; rm -rf /Users/azakaria/Code/openmpf-yolo-training/nightowls/dataset/labels/*\n",
    "#docker cp /Users/azakaria/Code/openmpf-yolo-training/nightowls/dataset/. 5dcf6e04dbba:/usr/src/datasets/nightowls_val\n",
    "#ls /Users/azakaria/Code/openmpf-yolo-training/nightowls/dataset/images | wc -l ; ls /Users/azakaria/Code/openmpf-yolo-training/nightowls/dataset/labels | wc -l"
   ]
  }
 ],
 "metadata": {
  "kernelspec": {
   "display_name": "Python 3.9.10 64-bit",
   "language": "python",
   "name": "python3"
  },
  "language_info": {
   "codemirror_mode": {
    "name": "ipython",
    "version": 3
   },
   "file_extension": ".py",
   "mimetype": "text/x-python",
   "name": "python",
   "nbconvert_exporter": "python",
   "pygments_lexer": "ipython3",
   "version": "3.9.12"
  },
  "orig_nbformat": 4,
  "vscode": {
   "interpreter": {
    "hash": "ac2eaa0ea0ebeafcc7822e65e46aa9d4f966f30b695406963e145ea4a91cd4fc"
   }
  }
 },
 "nbformat": 4,
 "nbformat_minor": 2
}
